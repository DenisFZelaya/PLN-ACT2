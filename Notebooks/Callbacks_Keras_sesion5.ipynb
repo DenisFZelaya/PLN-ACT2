{
  "cells": [
    {
      "cell_type": "markdown",
      "metadata": {
        "id": "R9ghi0hI5vrD"
      },
      "source": [
        "<h1>Entrenamiento del modelo empleando la API Callbacks de Keras:</h1>\n",
        "</br>\n",
        "Callbacks es una herramienta que permite personalizar el comportamiento de un modelo en diferentes etapas: entrenamiento (<b>model.fit</b>), evaluación (<b>model.evaluate</b>) o inferencias (<b>model.predict</b>).\n",
        "</br>\n",
        "\n",
        "<ul>\n",
        "  <li> <b>EarlyStopping</b> Detiene el entrenamiento cuando se cumple la condición especificada.\n",
        "  <ul>\n",
        "    <li>\n",
        "        <i>monitor</i> Métrica que se va a monitorear. Por default <b>val_loss</b>\n",
        "    </li>\n",
        "    <li>\n",
        "      <i>patience</i> Número de épocas en las que el modelo no mejora durante el entrenamiento.\n",
        "    </li>\n",
        "    <li>\n",
        "      <i>min_delta</i> Valor que indica el cambio mínimo que se espera tenga el modelo.\n",
        "    </li>\n",
        "  </ul>\n",
        "  <li> <b>ModelCheckpoint</b> Salva el modelo después de cada época.\n",
        "  <table>\n",
        "    <tr>\n",
        "      <td> <i>filepath</i> </td>\n",
        "      <td> string </td>\n",
        "      <td> Ruta y nombre del modelo <td>\n",
        "    </tr>\n",
        "    <tr>\n",
        "      <td> <i>save_best_only</i> </td>\n",
        "      <td> bool </td>\n",
        "      <td> Con <b>true</b> el mejor modelo será almacenado, si el nombre es único, el modelo no se sobreescribe.</td>\n",
        "    <tr>\n",
        "      <td> <i>save_weights_only</i> </td>\n",
        "      <td> bool </td>\n",
        "      <td> Con <b>true</b> sólo se guardan los pesos del modelo.</td>\n",
        "  </table>\n",
        "</ul>"
      ]
    },
    {
      "cell_type": "code",
      "execution_count": null,
      "metadata": {
        "colab": {
          "base_uri": "https://localhost:8080/"
        },
        "id": "yB9aFIMOvU2M",
        "outputId": "acadfab8-f7f9-4052-bfd6-d0cee94a9823",
        "tags": []
      },
      "outputs": [
        {
          "output_type": "stream",
          "name": "stdout",
          "text": [
            "2.15.0\n"
          ]
        }
      ],
      "source": [
        "import tensorflow as tf\n",
        "print(tf.__version__)"
      ]
    },
    {
      "cell_type": "code",
      "execution_count": null,
      "metadata": {
        "colab": {
          "base_uri": "https://localhost:8080/"
        },
        "id": "i6Wiczf4wFOq",
        "outputId": "f7509c86-7679-4fc8-cb4d-0fc5549b4ed0",
        "tags": []
      },
      "outputs": [
        {
          "output_type": "stream",
          "name": "stdout",
          "text": [
            "Downloading data from https://storage.googleapis.com/tensorflow/tf-keras-datasets/mnist.npz\n",
            "11490434/11490434 [==============================] - 0s 0us/step\n"
          ]
        }
      ],
      "source": [
        "# Se importa el dataset MNIST\n",
        "digit_mnist = tf.keras.datasets.mnist\n",
        "\n",
        "# Se cargan los conjuntos de entrenamiento (*_train_whole) y de validación (*_test) en variables separadas\n",
        "(X_train_whole, y_train_whole), (X_test, y_test) = digit_mnist.load_data()\n"
      ]
    },
    {
      "cell_type": "markdown",
      "metadata": {
        "id": "bR6_RIeGMZ9i"
      },
      "source": [
        "<h2> Distribución de los datos del dataset </h2>"
      ]
    },
    {
      "cell_type": "code",
      "execution_count": null,
      "metadata": {
        "id": "3y6prUXDMZVY",
        "tags": []
      },
      "outputs": [],
      "source": [
        "# Se deja como ejercicio graficar la distribución del dataset"
      ]
    },
    {
      "cell_type": "markdown",
      "metadata": {
        "id": "PrX2EW75MYx5"
      },
      "source": [
        "<h2>Dividir X_train_whole y y_train_whole</h2>"
      ]
    },
    {
      "cell_type": "code",
      "execution_count": null,
      "metadata": {
        "colab": {
          "base_uri": "https://localhost:8080/"
        },
        "id": "ytEqYp3NPCh8",
        "outputId": "74d880ee-0653-4c8e-bbad-4ed56f533880",
        "tags": []
      },
      "outputs": [
        {
          "output_type": "stream",
          "name": "stdout",
          "text": [
            "Número de elementos para entrenar 48000\n",
            "Número de elementos para validar 12000\n"
          ]
        }
      ],
      "source": [
        "from sklearn.model_selection import train_test_split\n",
        "\n",
        "X_train, X_valid, y_train, y_valid = train_test_split(X_train_whole, y_train_whole, test_size=0.2, random_state=42)\n",
        "print(f'Número de elementos para entrenar {X_train.shape[0]}')\n",
        "print(f'Número de elementos para validar {X_valid.shape[0]}')"
      ]
    },
    {
      "cell_type": "markdown",
      "metadata": {
        "id": "O7zmlyOz2j4B"
      },
      "source": [
        "<h3>Normalización de datos</h3>\n",
        "\n",
        "Los datos se redimensionan en un rango de 0 a 1."
      ]
    },
    {
      "cell_type": "code",
      "execution_count": null,
      "metadata": {
        "id": "yb6oVnsa2jBa",
        "tags": []
      },
      "outputs": [],
      "source": [
        "# Conjuntos de entrenamiento y validación para generar el modelo\n",
        "X_train = X_train / 255.0\n",
        "X_valid = X_valid / 255.0\n",
        "\n",
        "# Conjunto de pruebas\n",
        "X_test = X_test / 255.0"
      ]
    },
    {
      "cell_type": "markdown",
      "metadata": {
        "id": "LMJiMioPycN_"
      },
      "source": [
        "<h2>Definición de la arquitectura</h2>"
      ]
    },
    {
      "cell_type": "code",
      "execution_count": null,
      "metadata": {
        "id": "PzbLJgKwCkFP",
        "tags": []
      },
      "outputs": [],
      "source": [
        "from keras.models import Sequential\n",
        "from keras.layers import Flatten\n",
        "from keras.layers import Dense"
      ]
    },
    {
      "cell_type": "code",
      "execution_count": null,
      "metadata": {
        "id": "X2sZ86B6ywW-",
        "tags": []
      },
      "outputs": [],
      "source": [
        "# Codigo para definir un modelo\n",
        "layers_model1  = [\n",
        "    Flatten(input_shape=[28,28], name=\"input_layer\"),\n",
        "    Dense(64, activation='relu', name=\"hiden_layer\"),\n",
        "    Dense(10, activation='softmax', name=\"output_layer\")\n",
        "]\n",
        "\n",
        "model1 = Sequential(layers_model1)"
      ]
    },
    {
      "cell_type": "code",
      "execution_count": null,
      "metadata": {
        "colab": {
          "base_uri": "https://localhost:8080/"
        },
        "id": "FQ1T4S6K65Or",
        "outputId": "9704b008-47ae-4e8a-f8b0-6c7814bfd51a",
        "tags": []
      },
      "outputs": [
        {
          "output_type": "stream",
          "name": "stdout",
          "text": [
            "Model: \"sequential\"\n",
            "_________________________________________________________________\n",
            " Layer (type)                Output Shape              Param #   \n",
            "=================================================================\n",
            " input_layer (Flatten)       (None, 784)               0         \n",
            "                                                                 \n",
            " hiden_layer (Dense)         (None, 64)                50240     \n",
            "                                                                 \n",
            " output_layer (Dense)        (None, 10)                650       \n",
            "                                                                 \n",
            "=================================================================\n",
            "Total params: 50890 (198.79 KB)\n",
            "Trainable params: 50890 (198.79 KB)\n",
            "Non-trainable params: 0 (0.00 Byte)\n",
            "_________________________________________________________________\n"
          ]
        }
      ],
      "source": [
        "model1.summary()"
      ]
    },
    {
      "cell_type": "markdown",
      "metadata": {
        "id": "2ogAlI6YyrjS"
      },
      "source": [
        "<h2>Compilar red</h2>"
      ]
    },
    {
      "cell_type": "code",
      "execution_count": null,
      "metadata": {
        "id": "LY4yI5ay8Yjv",
        "tags": []
      },
      "outputs": [],
      "source": [
        "model1.compile(loss='sparse_categorical_crossentropy',\n",
        "              optimizer = \"SGD\",\n",
        "              metrics = [\"accuracy\"]\n",
        "              )"
      ]
    },
    {
      "cell_type": "markdown",
      "metadata": {
        "tags": [],
        "id": "hUfK1lq-LByQ"
      },
      "source": [
        "<h2>Entrenar la red</h2>"
      ]
    },
    {
      "cell_type": "code",
      "execution_count": null,
      "metadata": {
        "id": "7w7Li9AZ9AjT",
        "tags": []
      },
      "outputs": [],
      "source": [
        "my_callbacks = [\n",
        "    tf.keras.callbacks.EarlyStopping(patience=3, min_delta=1e-2),\n",
        "    #tf.keras.callbacks.ModelCheckpoint(filepath='model.{epoch:02d}-{val_loss:.2f}.h5', save_best_only = True),\n",
        "    tf.keras.callbacks.ModelCheckpoint(filepath='best_model.h5', save_best_only = True)\n",
        "]"
      ]
    },
    {
      "cell_type": "code",
      "execution_count": null,
      "metadata": {
        "tags": [],
        "colab": {
          "base_uri": "https://localhost:8080/"
        },
        "id": "9P72lITaLByQ",
        "outputId": "1a5a2daa-2b55-4287-db18-f8c1d342c1bd"
      },
      "outputs": [
        {
          "output_type": "stream",
          "name": "stdout",
          "text": [
            "Epoch 1/300\n",
            "1500/1500 [==============================] - 14s 7ms/step - loss: 0.7439 - accuracy: 0.8112 - val_loss: 0.4136 - val_accuracy: 0.8876\n",
            "Epoch 2/300\n",
            "  26/1500 [..............................] - ETA: 6s - loss: 0.4406 - accuracy: 0.8858"
          ]
        },
        {
          "output_type": "stream",
          "name": "stderr",
          "text": [
            "/usr/local/lib/python3.10/dist-packages/keras/src/engine/training.py:3103: UserWarning: You are saving your model as an HDF5 file via `model.save()`. This file format is considered legacy. We recommend using instead the native Keras format, e.g. `model.save('my_model.keras')`.\n",
            "  saving_api.save_model(\n"
          ]
        },
        {
          "output_type": "stream",
          "name": "stdout",
          "text": [
            "1500/1500 [==============================] - 5s 3ms/step - loss: 0.3680 - accuracy: 0.8969 - val_loss: 0.3307 - val_accuracy: 0.9084\n",
            "Epoch 3/300\n",
            "1500/1500 [==============================] - 5s 3ms/step - loss: 0.3150 - accuracy: 0.9104 - val_loss: 0.2975 - val_accuracy: 0.9162\n",
            "Epoch 4/300\n",
            "1500/1500 [==============================] - 8s 5ms/step - loss: 0.2847 - accuracy: 0.9188 - val_loss: 0.2715 - val_accuracy: 0.9225\n",
            "Epoch 5/300\n",
            "1500/1500 [==============================] - 9s 6ms/step - loss: 0.2629 - accuracy: 0.9254 - val_loss: 0.2538 - val_accuracy: 0.9280\n",
            "Epoch 6/300\n",
            "1500/1500 [==============================] - 5s 3ms/step - loss: 0.2455 - accuracy: 0.9305 - val_loss: 0.2410 - val_accuracy: 0.9325\n",
            "Epoch 7/300\n",
            "1500/1500 [==============================] - 5s 3ms/step - loss: 0.2311 - accuracy: 0.9350 - val_loss: 0.2272 - val_accuracy: 0.9358\n",
            "Epoch 8/300\n",
            "1500/1500 [==============================] - 4s 3ms/step - loss: 0.2190 - accuracy: 0.9388 - val_loss: 0.2199 - val_accuracy: 0.9364\n",
            "Epoch 9/300\n",
            "1500/1500 [==============================] - 4s 3ms/step - loss: 0.2084 - accuracy: 0.9415 - val_loss: 0.2085 - val_accuracy: 0.9410\n",
            "Epoch 10/300\n",
            "1500/1500 [==============================] - 5s 3ms/step - loss: 0.1991 - accuracy: 0.9444 - val_loss: 0.2027 - val_accuracy: 0.9431\n",
            "Epoch 11/300\n",
            "1500/1500 [==============================] - 4s 3ms/step - loss: 0.1905 - accuracy: 0.9465 - val_loss: 0.1941 - val_accuracy: 0.9455\n",
            "Epoch 12/300\n",
            "1500/1500 [==============================] - 4s 3ms/step - loss: 0.1829 - accuracy: 0.9480 - val_loss: 0.1879 - val_accuracy: 0.9471\n",
            "Epoch 13/300\n",
            "1500/1500 [==============================] - 5s 4ms/step - loss: 0.1758 - accuracy: 0.9501 - val_loss: 0.1809 - val_accuracy: 0.9491\n",
            "Epoch 14/300\n",
            "1500/1500 [==============================] - 4s 3ms/step - loss: 0.1694 - accuracy: 0.9526 - val_loss: 0.1756 - val_accuracy: 0.9499\n",
            "Epoch 15/300\n",
            "1500/1500 [==============================] - 4s 3ms/step - loss: 0.1630 - accuracy: 0.9540 - val_loss: 0.1727 - val_accuracy: 0.9513\n",
            "Epoch 16/300\n",
            "1500/1500 [==============================] - 6s 4ms/step - loss: 0.1577 - accuracy: 0.9552 - val_loss: 0.1673 - val_accuracy: 0.9513\n",
            "Epoch 17/300\n",
            "1500/1500 [==============================] - 4s 3ms/step - loss: 0.1523 - accuracy: 0.9567 - val_loss: 0.1621 - val_accuracy: 0.9553\n",
            "Epoch 18/300\n",
            "1500/1500 [==============================] - 4s 3ms/step - loss: 0.1474 - accuracy: 0.9587 - val_loss: 0.1586 - val_accuracy: 0.9552\n",
            "Epoch 19/300\n",
            "1500/1500 [==============================] - 5s 3ms/step - loss: 0.1427 - accuracy: 0.9599 - val_loss: 0.1563 - val_accuracy: 0.9574\n",
            "Epoch 20/300\n",
            "1500/1500 [==============================] - 4s 3ms/step - loss: 0.1382 - accuracy: 0.9608 - val_loss: 0.1538 - val_accuracy: 0.9574\n",
            "Epoch 21/300\n",
            "1500/1500 [==============================] - 4s 3ms/step - loss: 0.1341 - accuracy: 0.9624 - val_loss: 0.1494 - val_accuracy: 0.9583\n",
            "Epoch 22/300\n",
            "1500/1500 [==============================] - 6s 4ms/step - loss: 0.1302 - accuracy: 0.9635 - val_loss: 0.1483 - val_accuracy: 0.9574\n"
          ]
        }
      ],
      "source": [
        "history1 = model1.fit(\n",
        "    X_train, y_train,\n",
        "    epochs = 300,\n",
        "    validation_data = (X_valid, y_valid),\n",
        "    verbose = 1,\n",
        "    batch_size = 32,\n",
        "    callbacks = my_callbacks\n",
        ")"
      ]
    },
    {
      "cell_type": "code",
      "execution_count": null,
      "metadata": {
        "colab": {
          "base_uri": "https://localhost:8080/"
        },
        "id": "2KABfKTRtlbr",
        "outputId": "c0ce11e7-f7ed-4a15-aa54-2477314971a6"
      },
      "outputs": [
        {
          "output_type": "stream",
          "name": "stdout",
          "text": [
            "best_model.h5  \u001b[0m\u001b[01;34msample_data\u001b[0m/\n"
          ]
        }
      ],
      "source": [
        "ls"
      ]
    },
    {
      "cell_type": "code",
      "execution_count": null,
      "metadata": {
        "colab": {
          "base_uri": "https://localhost:8080/",
          "height": 755
        },
        "id": "DRhle9_C9tCO",
        "outputId": "0c8efc2b-5896-49e9-aa7c-ad38743a215e"
      },
      "outputs": [
        {
          "output_type": "display_data",
          "data": {
            "text/plain": [
              "<Figure size 640x480 with 2 Axes>"
            ],
            "image/png": "[encoded data removed]"
          },
          "metadata": {}
        }
      ],
      "source": [
        "import matplotlib.pyplot as plt\n",
        "\n",
        "plt.subplot(211)\n",
        "# plot loss\n",
        "plt.title('Loss')\n",
        "plt.plot(history1.history['loss'], color='blue', label='train')\n",
        "plt.plot(history1.history['val_loss'], color='orange', label='test')\n",
        "plt.legend()\n",
        "\n",
        "# plot accuracy\n",
        "plt.subplot(212)\n",
        "plt.title('Classification Accuracy')\n",
        "plt.plot(history1.history['accuracy'], color='blue', label='train')\n",
        "plt.plot(history1.history['val_accuracy'], color='orange', label='test')\n",
        "plt.legend()\n",
        "\n",
        "plt.subplots_adjust(bottom=0, top=1.4)"
      ]
    },
    {
      "cell_type": "markdown",
      "metadata": {
        "id": "AXMBYot7LByQ"
      },
      "source": [
        "<h2>Ejemplo 2</h2>\n",
        "\n",
        "En el siguiente ejemplo se realiza una clase que imprime la pérdida (*loss*) de cada *batch*, tanto en el conjunto de entrenamiento como en el de validación. Además, al final de cada *epoch* (época) se muestra el promedio de la pérdida y del *accuracy*.\n",
        "\n",
        "**batch_size** es un hiperparametro que afecta la velocidad del entrenamiento, además de su *accuracy* y generalización. Como valor inicial se sugiere usar 32 o 64.\n",
        "\n",
        "\n",
        "A continuación se calcula el número de batch por época a partir de la cantidad de imágenes en cada conjunto y del parámetro *batch_size*"
      ]
    },
    {
      "cell_type": "code",
      "execution_count": null,
      "metadata": {
        "colab": {
          "base_uri": "https://localhost:8080/"
        },
        "id": "I3354S_Mwy8V",
        "outputId": "b3a1d0fa-62fb-439a-f8d8-b44c54126a7d",
        "tags": []
      },
      "outputs": [
        {
          "output_type": "stream",
          "name": "stdout",
          "text": [
            "Numero de imagenes para entrenamiento 48000\n",
            "Numero de imagenes para validación 12000\n",
            "Numero de lotes por epoca en el entrenamiento 46\n",
            "Numero de lotes por epoca en la validación 11\n"
          ]
        }
      ],
      "source": [
        "# Impresión del número de imagenes del conjunto de entrenamiento y validación\n",
        "numimg_xtrain = X_train.shape[0]\n",
        "numimg_xvalid = X_valid.shape[0]\n",
        "\n",
        "print(f'Numero de imagenes para entrenamiento {numimg_xtrain}')\n",
        "print(f'Numero de imagenes para validación {numimg_xvalid}')\n",
        "\n",
        "BATCH_SIZE = 1024\n",
        "\n",
        "print(f'Numero de lotes por epoca en el entrenamiento {numimg_xtrain//BATCH_SIZE}')\n",
        "print(f'Numero de lotes por epoca en la validación {numimg_xvalid//BATCH_SIZE}')"
      ]
    },
    {
      "cell_type": "code",
      "execution_count": null,
      "metadata": {
        "id": "D1FSxHolLByR"
      },
      "outputs": [],
      "source": [
        "model2 = Sequential()\n",
        "model2.add(Flatten(input_shape=[28,28]))\n",
        "model2.add(Dense(64, activation=\"relu\"))\n",
        "model2.add(Dense(10, activation=\"softmax\"))"
      ]
    },
    {
      "cell_type": "code",
      "execution_count": null,
      "metadata": {
        "tags": [],
        "id": "mIoIWbTDLByR"
      },
      "outputs": [],
      "source": [
        "model2.compile(loss='sparse_categorical_crossentropy',\n",
        "              optimizer = \"SGD\",\n",
        "              metrics = [\"accuracy\"]\n",
        "              )"
      ]
    },
    {
      "cell_type": "code",
      "execution_count": null,
      "metadata": {
        "tags": [],
        "id": "tqlq0pEfLByR"
      },
      "outputs": [],
      "source": [
        "class LossAndAccuracyPrint(tf.keras.callbacks.Callback):\n",
        "    def on_train_batch_end(self, batch, logs=None):\n",
        "        print(\n",
        "            \"Entrenamiento - En el batch {}, el promedio de la perdida es {:4.2f}\".format(batch, logs[\"loss\"])\n",
        "        )\n",
        "\n",
        "    def on_test_batch_end(self, batch, logs=None):\n",
        "        print(\n",
        "            \"Validación - En el batch {}, el promedio de la perdida es {:4.2f} \"\n",
        "            \"y el del accuracy es {:4.2f}\".format(batch, logs[\"loss\"], logs[\"accuracy\"])\n",
        "        )\n",
        "\n",
        "    def on_epoch_end(self, epoch, logs=None):\n",
        "        print(\n",
        "            \"El promedio de la pérdida en la epoca {} es {:4.2f} \"\n",
        "            \"y el del accuracy es {:4.2f}\\n\".format(\n",
        "                epoch, logs[\"loss\"], logs[\"accuracy\"]\n",
        "            )\n",
        "        )"
      ]
    },
    {
      "cell_type": "code",
      "execution_count": null,
      "metadata": {
        "tags": [],
        "colab": {
          "base_uri": "https://localhost:8080/"
        },
        "id": "5RZ-lAPPLByR",
        "outputId": "fb2f506c-c385-4e41-f46d-ef9fd96770fa"
      },
      "outputs": [
        {
          "output_type": "stream",
          "name": "stdout",
          "text": [
            "Entrenamiento - En el batch 0, el promedio de la perdida es 2.43\n",
            "Entrenamiento - En el batch 1, el promedio de la perdida es 2.44\n",
            "Entrenamiento - En el batch 2, el promedio de la perdida es 2.42\n",
            "Entrenamiento - En el batch 3, el promedio de la perdida es 2.42\n",
            "Entrenamiento - En el batch 4, el promedio de la perdida es 2.41\n",
            "Entrenamiento - En el batch 5, el promedio de la perdida es 2.41\n",
            "Entrenamiento - En el batch 6, el promedio de la perdida es 2.40\n",
            "Entrenamiento - En el batch 7, el promedio de la perdida es 2.39\n",
            "Entrenamiento - En el batch 8, el promedio de la perdida es 2.39\n",
            "Entrenamiento - En el batch 9, el promedio de la perdida es 2.38\n",
            "Entrenamiento - En el batch 10, el promedio de la perdida es 2.38\n",
            "Entrenamiento - En el batch 11, el promedio de la perdida es 2.37\n",
            "Entrenamiento - En el batch 12, el promedio de la perdida es 2.36\n",
            "Entrenamiento - En el batch 13, el promedio de la perdida es 2.36\n",
            "Entrenamiento - En el batch 14, el promedio de la perdida es 2.35\n",
            "Entrenamiento - En el batch 15, el promedio de la perdida es 2.35\n",
            "Entrenamiento - En el batch 16, el promedio de la perdida es 2.34\n",
            "Entrenamiento - En el batch 17, el promedio de la perdida es 2.34\n",
            "Entrenamiento - En el batch 18, el promedio de la perdida es 2.33\n",
            "Entrenamiento - En el batch 19, el promedio de la perdida es 2.33\n",
            "Entrenamiento - En el batch 20, el promedio de la perdida es 2.32\n",
            "Entrenamiento - En el batch 21, el promedio de la perdida es 2.32\n",
            "Entrenamiento - En el batch 22, el promedio de la perdida es 2.31\n",
            "Entrenamiento - En el batch 23, el promedio de la perdida es 2.31\n",
            "Entrenamiento - En el batch 24, el promedio de la perdida es 2.30\n",
            "Entrenamiento - En el batch 25, el promedio de la perdida es 2.30\n",
            "Entrenamiento - En el batch 26, el promedio de la perdida es 2.29\n",
            "Entrenamiento - En el batch 27, el promedio de la perdida es 2.29\n",
            "Entrenamiento - En el batch 28, el promedio de la perdida es 2.28\n",
            "Entrenamiento - En el batch 29, el promedio de la perdida es 2.28\n",
            "Entrenamiento - En el batch 30, el promedio de la perdida es 2.27\n",
            "Entrenamiento - En el batch 31, el promedio de la perdida es 2.27\n",
            "Entrenamiento - En el batch 32, el promedio de la perdida es 2.26\n",
            "Entrenamiento - En el batch 33, el promedio de la perdida es 2.26\n",
            "Entrenamiento - En el batch 34, el promedio de la perdida es 2.25\n",
            "Entrenamiento - En el batch 35, el promedio de la perdida es 2.25\n",
            "Entrenamiento - En el batch 36, el promedio de la perdida es 2.25\n",
            "Entrenamiento - En el batch 37, el promedio de la perdida es 2.24\n",
            "Entrenamiento - En el batch 38, el promedio de la perdida es 2.24\n",
            "Entrenamiento - En el batch 39, el promedio de la perdida es 2.23\n",
            "Entrenamiento - En el batch 40, el promedio de la perdida es 2.23\n",
            "Entrenamiento - En el batch 41, el promedio de la perdida es 2.22\n",
            "Entrenamiento - En el batch 42, el promedio de la perdida es 2.22\n",
            "Entrenamiento - En el batch 43, el promedio de la perdida es 2.22\n",
            "Entrenamiento - En el batch 44, el promedio de la perdida es 2.21\n",
            "Entrenamiento - En el batch 45, el promedio de la perdida es 2.21\n",
            "Entrenamiento - En el batch 46, el promedio de la perdida es 2.20\n",
            "Validación - En el batch 0, el promedio de la perdida es 2.02 y el del accuracy es 0.38\n",
            "Validación - En el batch 1, el promedio de la perdida es 2.01 y el del accuracy es 0.39\n",
            "Validación - En el batch 2, el promedio de la perdida es 2.01 y el del accuracy es 0.40\n",
            "Validación - En el batch 3, el promedio de la perdida es 2.01 y el del accuracy es 0.40\n",
            "Validación - En el batch 4, el promedio de la perdida es 2.01 y el del accuracy es 0.40\n",
            "Validación - En el batch 5, el promedio de la perdida es 2.01 y el del accuracy es 0.40\n",
            "Validación - En el batch 6, el promedio de la perdida es 2.01 y el del accuracy es 0.40\n",
            "Validación - En el batch 7, el promedio de la perdida es 2.01 y el del accuracy es 0.40\n",
            "Validación - En el batch 8, el promedio de la perdida es 2.01 y el del accuracy es 0.40\n",
            "Validación - En el batch 9, el promedio de la perdida es 2.01 y el del accuracy es 0.40\n",
            "Validación - En el batch 10, el promedio de la perdida es 2.01 y el del accuracy es 0.40\n",
            "Validación - En el batch 11, el promedio de la perdida es 2.01 y el del accuracy es 0.40\n",
            "El promedio de la pérdida en la epoca 0 es 2.20 y el del accuracy es 0.22\n",
            "\n"
          ]
        }
      ],
      "source": [
        "history2 = model2.fit(\n",
        "    X_train, y_train,\n",
        "    epochs=1,\n",
        "    validation_data=(X_valid, y_valid),\n",
        "    verbose=0,\n",
        "    batch_size=BATCH_SIZE,\n",
        "    callbacks=[LossAndAccuracyPrint()]\n",
        ")"
      ]
    },
    {
      "cell_type": "markdown",
      "metadata": {
        "tags": [],
        "id": "DNH4MClfLByR"
      },
      "source": [
        "<h2>Ejemplo 3</h2>"
      ]
    },
    {
      "cell_type": "code",
      "execution_count": null,
      "metadata": {
        "tags": [],
        "id": "hpe09ZhLLByR"
      },
      "outputs": [],
      "source": [
        "model3 = Sequential()\n",
        "model3.add(Flatten(input_shape=[28,28]))\n",
        "model3.add(Dense(64, activation=\"relu\"))\n",
        "model3.add(Dense(10, activation=\"softmax\"))"
      ]
    },
    {
      "cell_type": "code",
      "execution_count": null,
      "metadata": {
        "tags": [],
        "id": "K0Ud9lXkLByR"
      },
      "outputs": [],
      "source": [
        "model3.compile(loss='sparse_categorical_crossentropy',\n",
        "              optimizer = \"SGD\",\n",
        "              metrics = [\"accuracy\"]\n",
        "              )"
      ]
    },
    {
      "cell_type": "code",
      "execution_count": null,
      "metadata": {
        "tags": [],
        "id": "LZfIu-1oLByS"
      },
      "outputs": [],
      "source": [
        "import numpy as np\n",
        "class StopAtDiff(tf.keras.callbacks.Callback):\n",
        "    def __init__(self, patience=0):\n",
        "        super(StopAtDiff, self).__init__()\n",
        "        self.patience = patience\n",
        "\n",
        "    def on_train_begin(self, logs=None):\n",
        "        # The number of epoch it has waited when loss is no longer minimum.\n",
        "        self.wait = 0\n",
        "        # The epoch the training stops at.\n",
        "        self.stopped_epoch = 0\n",
        "        # Initialize the best as infinity.\n",
        "        self.best = np.Inf\n",
        "\n",
        "    def on_epoch_end(self, epoch, logs=None):\n",
        "        diff = logs.get(\"loss\")-logs.get(\"val_loss\")\n",
        "        if (diff > 0) and (diff < self.best):\n",
        "            self.best = diff\n",
        "            self.wait = 0\n",
        "        else:\n",
        "            self.wait += 1\n",
        "            if self.wait >= self.patience:\n",
        "                self.stopped_epoch = epoch\n",
        "                self.model.stop_training = True\n",
        "\n",
        "    def on_train_end(self, logs=None):\n",
        "        if self.stopped_epoch > 0:\n",
        "            print(\"El entrenamiento del modelo se detuvo en la epoca %05d\" % (self.stopped_epoch + 1))\n",
        "\n",
        "class TrainMinusValPrint(tf.keras.callbacks.Callback):\n",
        "    def on_epoch_end(self, epoch, logs=None):\n",
        "        print(\n",
        "            \"En la época {}  la diferencia de {:4.4f} - {:4.4f} es {:4.4f}\".format(\n",
        "                epoch, logs[\"loss\"], logs[\"val_loss\"], logs[\"loss\"]-logs[\"val_loss\"])\n",
        "            )"
      ]
    },
    {
      "cell_type": "code",
      "execution_count": null,
      "metadata": {
        "tags": [],
        "colab": {
          "base_uri": "https://localhost:8080/"
        },
        "id": "C-d8XTCqLByS",
        "outputId": "902e5044-8963-4f59-9732-d36f19b3104e"
      },
      "outputs": [
        {
          "output_type": "stream",
          "name": "stdout",
          "text": [
            "En la época 0  la diferencia de 0.7618 - 0.4046 es 0.3573\n",
            "En la época 1  la diferencia de 0.3618 - 0.3242 es 0.0376\n",
            "En la época 2  la diferencia de 0.3085 - 0.2887 es 0.0198\n",
            "En la época 3  la diferencia de 0.2780 - 0.2654 es 0.0126\n",
            "En la época 4  la diferencia de 0.2549 - 0.2474 es 0.0075\n",
            "En la época 5  la diferencia de 0.2364 - 0.2303 es 0.0061\n",
            "En la época 6  la diferencia de 0.2209 - 0.2204 es 0.0006\n",
            "En la época 7  la diferencia de 0.2077 - 0.2069 es 0.0008\n",
            "En la época 8  la diferencia de 0.1960 - 0.1981 es -0.0021\n",
            "En la época 9  la diferencia de 0.1859 - 0.1907 es -0.0049\n",
            "En la época 10  la diferencia de 0.1767 - 0.1831 es -0.0064\n",
            "En la época 11  la diferencia de 0.1687 - 0.1762 es -0.0075\n",
            "El entrenamiento del modelo se detuvo en la epoca 00012\n"
          ]
        }
      ],
      "source": [
        "history3 = model3.fit(\n",
        "    X_train, y_train,\n",
        "    epochs = 200,\n",
        "    validation_data = (X_valid, y_valid),\n",
        "    verbose = 0,\n",
        "    batch_size = 32,\n",
        "    callbacks = [StopAtDiff(5), TrainMinusValPrint()]\n",
        ")"
      ]
    },
    {
      "cell_type": "code",
      "execution_count": null,
      "metadata": {
        "tags": [],
        "colab": {
          "base_uri": "https://localhost:8080/",
          "height": 755
        },
        "id": "itXgInEqLByS",
        "outputId": "7218c868-e042-4a3e-b17e-85fd9d683ba6"
      },
      "outputs": [
        {
          "output_type": "display_data",
          "data": {
            "text/plain": [
              "<Figure size 640x480 with 2 Axes>"
            ],
            "image/png": "[encoded data removed]"
          },
          "metadata": {}
        }
      ],
      "source": [
        "plt.subplot(211)\n",
        "# plot loss\n",
        "plt.title('Loss')\n",
        "plt.plot(history3.history['loss'], color='blue', label='train')\n",
        "plt.plot(history3.history['val_loss'], color='orange', label='test')\n",
        "\n",
        "# plot accuracy\n",
        "plt.subplot(212)\n",
        "plt.title('Classification Accuracy')\n",
        "plt.plot(history3.history['accuracy'], color='blue', label='train')\n",
        "plt.plot(history3.history['val_accuracy'], color='orange', label='test')\n",
        "\n",
        "plt.subplots_adjust(bottom=0, top=1.4)"
      ]
    },
    {
      "cell_type": "markdown",
      "metadata": {
        "tags": [],
        "id": "9ZfcfztZLByS"
      },
      "source": [
        "Referencias:\n",
        "    </br>\n",
        "    1. https://www.tensorflow.org/guide/keras/writing_your_own_callbacks\n",
        "    </br>\n",
        "    2. https://medium.com/data-science-365/determining-the-right-batch-size-for-a-neural-network-to-get-better-and-faster-results-7a8662830f15\n",
        "    </br>\n",
        "    3. https://www.linkedin.com/advice/0/what-best-batch-size-optimizing-deep-learning-kw4if\n",
        "    "
      ]
    }
  ],
  "metadata": {
    "accelerator": "GPU",
    "colab": {
      "provenance": []
    },
    "gpuClass": "standard",
    "kernelspec": {
      "display_name": "Python 3 (ipykernel)",
      "language": "python",
      "name": "python3"
    },
    "language_info": {
      "codemirror_mode": {
        "name": "ipython",
        "version": 3
      },
      "file_extension": ".py",
      "mimetype": "text/x-python",
      "name": "python",
      "nbconvert_exporter": "python",
      "pygments_lexer": "ipython3",
      "version": "3.7.16"
    }
  },
  "nbformat": 4,
  "nbformat_minor": 0
}