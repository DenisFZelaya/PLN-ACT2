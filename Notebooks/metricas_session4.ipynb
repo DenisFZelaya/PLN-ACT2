{
  "cells": [
    {
      "cell_type": "markdown",
      "metadata": {
        "id": "_HxQesEQ5JxD"
      },
      "source": [
        "<h1> Matriz de confusión y reporte de métricas</h1>\n",
        "\n",
        "El objetivo del presente **notebook** es presentar un conjunto de métricas que sirven para medir el desempeño de un modelo de clasificación.\n",
        "\n",
        "<center>\n",
        "    <table>\n",
        "        <tr>\n",
        "            <td>\n",
        "            </td>\n",
        "            <td>\n",
        "                Positive\n",
        "            </td>\n",
        "            <td>\n",
        "                Negative\n",
        "            </td>\n",
        "            <td>\n",
        "            </td>\n",
        "        </tr>\n",
        "        <tr>\n",
        "            <td>\n",
        "                Positive\n",
        "            </td>\n",
        "            <td>\n",
        "                True Positive (<b>TP</b>)\n",
        "            </td>\n",
        "            <td>\n",
        "                False Negative (<b>FN</b>)\n",
        "            </td>\n",
        "            <td>\n",
        "                <i>Recall</i>\n",
        "            </td>\n",
        "        </tr>\n",
        "        <tr>\n",
        "            <td>\n",
        "                Negative\n",
        "            </td>\n",
        "            <td>\n",
        "                False Positive (<b>FP</b>)\n",
        "            </td>\n",
        "            <td>\n",
        "                True Negative (<b>TN</b>)\n",
        "            </td>\n",
        "            <td>\n",
        "                <i>Specificity</i>\n",
        "            </td>\n",
        "        </tr>\n",
        "        <tr>\n",
        "            <td>\n",
        "            </td>\n",
        "            <td>\n",
        "                <i>Precision</i>\n",
        "            </td>\n",
        "            <td>\n",
        "            </td>\n",
        "            <td>\n",
        "                <i>Accuracy</i>\n",
        "            </td>\n",
        "        </tr>\n",
        "    </table>\n",
        "</center>\n",
        "\n",
        "Las métricas esenciales para resumir el comportamiento de un modelo son:\n",
        "<dd>\n",
        "    <dl><b>True Positive</b> (Verdadero positivo)</dl>\n",
        "    <dl><b>True Negative</b> (Verdadero negativo)</dl>\n",
        "    <dl><b>False Positive</b> (Falso positivo)</dl>\n",
        "    <dl><b>False negative</b> (Falso negativo)</dl>\n",
        "</dd>\n",
        "\n",
        "En la siguiente tabla se muestran las combinaciones de las salidas y etiquetas correctas (*True label*) de un problema de clasificación binomial.\n",
        "\n",
        "<center>\n",
        "  <table class=\"default\">\n",
        "    <tr>\n",
        "      <th>Predicción</th>\n",
        "      <th>True label</th>\n",
        "      <th>Tipo</th>\n",
        "      <th>Descripción</th>\n",
        "    </tr>\n",
        "    <tr>\n",
        "      <td>Verdadero</td>\n",
        "      <td>Verdadero</td>\n",
        "      <td>True Positive</td>\n",
        "      <td>Se predijo Verdadero y es Verdadero</td>\n",
        "    </tr>\n",
        "    <tr>\n",
        "      <td>Falso</td>\n",
        "      <td>Falso</td>\n",
        "      <td>True Negative</td>\n",
        "      <td>Se predijo Falso y es Falso</td>\n",
        "    </tr>\n",
        "    <tr>\n",
        "      <td>Verdadero</td>\n",
        "      <td>Falso</td>\n",
        "      <td>False Positive</td>\n",
        "      <td>Se predijo Verdadero y es Falso</td>\n",
        "    </tr>\n",
        "    <tr>\n",
        "      <td>Falso</td>\n",
        "      <td>Verdadero</td>\n",
        "      <td>False Negative</td>\n",
        "      <td>Se predijo Falso y es Verdadero</td>\n",
        "    </tr>\n",
        "  </table>\n",
        "</center>\n"
      ]
    },
    {
      "cell_type": "code",
      "execution_count": null,
      "metadata": {
        "id": "yB9aFIMOvU2M",
        "tags": [],
        "colab": {
          "base_uri": "https://localhost:8080/"
        },
        "outputId": "369bc2d5-fa36-4e22-ebd7-2c11548b1bae"
      },
      "outputs": [
        {
          "output_type": "stream",
          "name": "stdout",
          "text": [
            "2.15.0\n"
          ]
        }
      ],
      "source": [
        "# Cargar el framework tensorflow y verificar su versión\n",
        "\n",
        "import tensorflow as tf\n",
        "print(tf.__version__)"
      ]
    },
    {
      "cell_type": "code",
      "execution_count": null,
      "metadata": {
        "id": "i6Wiczf4wFOq",
        "tags": [],
        "colab": {
          "base_uri": "https://localhost:8080/"
        },
        "outputId": "d399be04-051e-42cf-c89a-83e70fb7d7cb"
      },
      "outputs": [
        {
          "output_type": "stream",
          "name": "stdout",
          "text": [
            "Downloading data from https://storage.googleapis.com/tensorflow/tf-keras-datasets/mnist.npz\n",
            "11490434/11490434 [==============================] - 0s 0us/step\n"
          ]
        }
      ],
      "source": [
        "# Se importa el dataset MNIST\n",
        "digit_mnist = tf.keras.datasets.mnist\n",
        "\n",
        "# Se cargan los conjuntos de entrenamiento (*_train_whole) y de validación (*_test) en variables separadas\n",
        "(X_train_whole, y_train_whole), (X_test, y_test) = digit_mnist.load_data()"
      ]
    },
    {
      "cell_type": "code",
      "execution_count": null,
      "metadata": {
        "id": "I3354S_Mwy8V",
        "tags": [],
        "colab": {
          "base_uri": "https://localhost:8080/"
        },
        "outputId": "e882644c-346b-42d5-d93c-2722fc83282f"
      },
      "outputs": [
        {
          "output_type": "stream",
          "name": "stdout",
          "text": [
            "Numero de imagenes para entrenamiento 60000, de tamaño 28x28\n"
          ]
        }
      ],
      "source": [
        "# Impresión del número de imagenes del conjunto de entrenamiento y validación\n",
        "\n",
        "print(f'Numero de imagenes para entrenamiento {X_train_whole.shape[0]}, de tamaño {X_train_whole.shape[1]}x{X_train_whole.shape[2]}')"
      ]
    },
    {
      "cell_type": "markdown",
      "metadata": {
        "id": "J0YWc8zBjWc9"
      },
      "source": [
        "<h1> Dataset </h1>"
      ]
    },
    {
      "cell_type": "code",
      "execution_count": null,
      "metadata": {
        "id": "zXLcxwoitLFR",
        "tags": [],
        "colab": {
          "base_uri": "https://localhost:8080/",
          "height": 603
        },
        "outputId": "45b8bb42-c398-4d6d-aa2a-cb817a00f693"
      },
      "outputs": [
        {
          "output_type": "display_data",
          "data": {
            "text/plain": [
              "<Figure size 700x700 with 16 Axes>"
            ],
            "image/png": "[encoded data removed]"
          },
          "metadata": {}
        }
      ],
      "source": [
        "import matplotlib.pyplot as plt\n",
        "\n",
        "# Tamaño de la figura\n",
        "w = 7\n",
        "h = 7\n",
        "\n",
        "# Número de columnas y filas del subplot\n",
        "cols = 4\n",
        "rows = 4\n",
        "\n",
        "# Creación de la figura\n",
        "fig = plt.figure(figsize=(w, h))\n",
        "\n",
        "for i in range(1, cols*rows+1):\n",
        "  img = X_train_whole[i]\n",
        "  fig.add_subplot(rows, cols, i)\n",
        "  plt.imshow(img, cmap=\"gray\")\n",
        "plt.show()"
      ]
    },
    {
      "cell_type": "markdown",
      "metadata": {
        "id": "bR6_RIeGMZ9i"
      },
      "source": [
        "<h1> Distribución de los datos del dataset </h1>"
      ]
    },
    {
      "cell_type": "code",
      "execution_count": null,
      "metadata": {
        "id": "3y6prUXDMZVY"
      },
      "outputs": [],
      "source": [
        "# Ejercicio grafique la distribución del dataset"
      ]
    },
    {
      "cell_type": "markdown",
      "metadata": {
        "id": "PrX2EW75MYx5"
      },
      "source": [
        "<h1>Dividir X_train_whole y y_train_whole</h1>"
      ]
    },
    {
      "cell_type": "code",
      "execution_count": null,
      "metadata": {
        "id": "ytEqYp3NPCh8",
        "tags": [],
        "colab": {
          "base_uri": "https://localhost:8080/"
        },
        "outputId": "9ab68f35-8d25-490c-c95f-5b24e0fd2f14"
      },
      "outputs": [
        {
          "output_type": "stream",
          "name": "stdout",
          "text": [
            "Número de elementos para entrenar 48000\n",
            "Número de elementos para validar 12000\n"
          ]
        }
      ],
      "source": [
        "from sklearn.model_selection import train_test_split\n",
        "\n",
        "X_train, X_valid, y_train, y_valid = train_test_split(X_train_whole, y_train_whole, test_size=0.2, random_state=42)\n",
        "print(f'Número de elementos para entrenar {X_train.shape[0]}')\n",
        "print(f'Número de elementos para validar {X_valid.shape[0]}')"
      ]
    },
    {
      "cell_type": "markdown",
      "metadata": {
        "id": "O7zmlyOz2j4B"
      },
      "source": [
        "<h2>Normalización de datos</h2>\n",
        "\n",
        "Los datos se redimensionan en un rango de 0 a 1."
      ]
    },
    {
      "cell_type": "code",
      "execution_count": null,
      "metadata": {
        "id": "yb6oVnsa2jBa",
        "tags": []
      },
      "outputs": [],
      "source": [
        "# Conjuntos de entrenamiento y validación para generar el modelo\n",
        "X_train = X_train / 255.0\n",
        "X_valid = X_valid / 255.0\n",
        "\n",
        "# Conjunto de pruebas\n",
        "X_test = X_test / 255.0"
      ]
    },
    {
      "cell_type": "markdown",
      "metadata": {
        "id": "LMJiMioPycN_"
      },
      "source": [
        "<h1>Definición de la arquitectura</h1>"
      ]
    },
    {
      "cell_type": "code",
      "execution_count": null,
      "metadata": {
        "id": "PzbLJgKwCkFP",
        "tags": []
      },
      "outputs": [],
      "source": [
        "from keras.models import Sequential\n",
        "from keras.layers import Flatten\n",
        "from keras.layers import Dense"
      ]
    },
    {
      "cell_type": "code",
      "execution_count": null,
      "metadata": {
        "id": "X2sZ86B6ywW-",
        "tags": []
      },
      "outputs": [],
      "source": [
        "# Codigo para definir un modelo\n",
        "layers = [\n",
        "    tf.keras.layers.Flatten(input_shape=(28, 28), name=\"Capa_entrada\"),\n",
        "    tf.keras.layers.Dense(300, activation='relu', name=\"Capa_oculta\"),\n",
        "    tf.keras.layers.Dense(10, activation='softmax', name=\"Capa_salida\")\n",
        "]\n",
        "\n",
        "model = tf.keras.Sequential(layers, name=\"Mnist_model\")"
      ]
    },
    {
      "cell_type": "code",
      "execution_count": null,
      "metadata": {
        "id": "FQ1T4S6K65Or",
        "tags": [],
        "colab": {
          "base_uri": "https://localhost:8080/"
        },
        "outputId": "12bc80fe-a052-4e5a-9c27-10d97f376cc2"
      },
      "outputs": [
        {
          "output_type": "stream",
          "name": "stdout",
          "text": [
            "Model: \"Mnist_model\"\n",
            "_________________________________________________________________\n",
            " Layer (type)                Output Shape              Param #   \n",
            "=================================================================\n",
            " Capa_entrada (Flatten)      (None, 784)               0         \n",
            "                                                                 \n",
            " Capa_oculta (Dense)         (None, 300)               235500    \n",
            "                                                                 \n",
            " Capa_salida (Dense)         (None, 10)                3010      \n",
            "                                                                 \n",
            "=================================================================\n",
            "Total params: 238510 (931.68 KB)\n",
            "Trainable params: 238510 (931.68 KB)\n",
            "Non-trainable params: 0 (0.00 Byte)\n",
            "_________________________________________________________________\n"
          ]
        }
      ],
      "source": [
        "model.summary()"
      ]
    },
    {
      "cell_type": "markdown",
      "metadata": {
        "id": "2ogAlI6YyrjS"
      },
      "source": [
        "<h1>Compilar red</h1>"
      ]
    },
    {
      "cell_type": "code",
      "execution_count": null,
      "metadata": {
        "id": "LY4yI5ay8Yjv",
        "tags": []
      },
      "outputs": [],
      "source": [
        "model.compile(loss='sparse_categorical_crossentropy',\n",
        "              optimizer = \"sgd\",\n",
        "              metrics = [\"accuracy\"]\n",
        "              )"
      ]
    },
    {
      "cell_type": "markdown",
      "metadata": {
        "id": "R9ghi0hI5vrD"
      },
      "source": [
        "<h1>Entrenamiento del modelo</h1>"
      ]
    },
    {
      "cell_type": "code",
      "execution_count": null,
      "metadata": {
        "id": "7w7Li9AZ9AjT",
        "tags": [],
        "colab": {
          "base_uri": "https://localhost:8080/"
        },
        "outputId": "4328050e-52eb-497a-dbae-e719e6122800"
      },
      "outputs": [
        {
          "output_type": "stream",
          "name": "stdout",
          "text": [
            "Epoch 1/25\n",
            "1500/1500 [==============================] - 14s 7ms/step - loss: 0.6876 - accuracy: 0.8309 - val_loss: 0.3909 - val_accuracy: 0.8961\n",
            "Epoch 2/25\n",
            "1500/1500 [==============================] - 9s 6ms/step - loss: 0.3525 - accuracy: 0.9025 - val_loss: 0.3169 - val_accuracy: 0.9120\n",
            "Epoch 3/25\n",
            "1500/1500 [==============================] - 5s 4ms/step - loss: 0.3008 - accuracy: 0.9150 - val_loss: 0.2806 - val_accuracy: 0.9219\n",
            "Epoch 4/25\n",
            "1500/1500 [==============================] - 4s 3ms/step - loss: 0.2690 - accuracy: 0.9244 - val_loss: 0.2556 - val_accuracy: 0.9283\n",
            "Epoch 5/25\n",
            "1500/1500 [==============================] - 5s 4ms/step - loss: 0.2455 - accuracy: 0.9310 - val_loss: 0.2408 - val_accuracy: 0.9315\n",
            "Epoch 6/25\n",
            "1500/1500 [==============================] - 4s 3ms/step - loss: 0.2264 - accuracy: 0.9368 - val_loss: 0.2226 - val_accuracy: 0.9388\n",
            "Epoch 7/25\n",
            "1500/1500 [==============================] - 4s 3ms/step - loss: 0.2100 - accuracy: 0.9415 - val_loss: 0.2080 - val_accuracy: 0.9438\n",
            "Epoch 8/25\n",
            "1500/1500 [==============================] - 5s 4ms/step - loss: 0.1962 - accuracy: 0.9455 - val_loss: 0.1972 - val_accuracy: 0.9452\n",
            "Epoch 9/25\n",
            "1500/1500 [==============================] - 4s 3ms/step - loss: 0.1840 - accuracy: 0.9485 - val_loss: 0.1883 - val_accuracy: 0.9483\n",
            "Epoch 10/25\n",
            "1500/1500 [==============================] - 5s 3ms/step - loss: 0.1735 - accuracy: 0.9520 - val_loss: 0.1782 - val_accuracy: 0.9503\n",
            "Epoch 11/25\n",
            "1500/1500 [==============================] - 5s 3ms/step - loss: 0.1640 - accuracy: 0.9544 - val_loss: 0.1720 - val_accuracy: 0.9518\n",
            "Epoch 12/25\n",
            "1500/1500 [==============================] - 4s 3ms/step - loss: 0.1557 - accuracy: 0.9569 - val_loss: 0.1644 - val_accuracy: 0.9544\n",
            "Epoch 13/25\n",
            "1500/1500 [==============================] - 5s 3ms/step - loss: 0.1478 - accuracy: 0.9593 - val_loss: 0.1577 - val_accuracy: 0.9558\n",
            "Epoch 14/25\n",
            "1500/1500 [==============================] - 4s 3ms/step - loss: 0.1410 - accuracy: 0.9614 - val_loss: 0.1522 - val_accuracy: 0.9580\n",
            "Epoch 15/25\n",
            "1500/1500 [==============================] - 4s 3ms/step - loss: 0.1348 - accuracy: 0.9628 - val_loss: 0.1477 - val_accuracy: 0.9592\n",
            "Epoch 16/25\n",
            "1500/1500 [==============================] - 5s 4ms/step - loss: 0.1287 - accuracy: 0.9648 - val_loss: 0.1431 - val_accuracy: 0.9602\n",
            "Epoch 17/25\n",
            "1500/1500 [==============================] - 4s 3ms/step - loss: 0.1236 - accuracy: 0.9663 - val_loss: 0.1388 - val_accuracy: 0.9608\n",
            "Epoch 18/25\n",
            "1500/1500 [==============================] - 4s 3ms/step - loss: 0.1184 - accuracy: 0.9681 - val_loss: 0.1357 - val_accuracy: 0.9625\n",
            "Epoch 19/25\n",
            "1500/1500 [==============================] - 5s 4ms/step - loss: 0.1141 - accuracy: 0.9693 - val_loss: 0.1308 - val_accuracy: 0.9640\n",
            "Epoch 20/25\n",
            "1500/1500 [==============================] - 4s 3ms/step - loss: 0.1097 - accuracy: 0.9706 - val_loss: 0.1282 - val_accuracy: 0.9635\n",
            "Epoch 21/25\n",
            "1500/1500 [==============================] - 4s 3ms/step - loss: 0.1059 - accuracy: 0.9716 - val_loss: 0.1262 - val_accuracy: 0.9646\n",
            "Epoch 22/25\n",
            "1500/1500 [==============================] - 6s 4ms/step - loss: 0.1022 - accuracy: 0.9723 - val_loss: 0.1229 - val_accuracy: 0.9657\n",
            "Epoch 23/25\n",
            "1500/1500 [==============================] - 5s 4ms/step - loss: 0.0987 - accuracy: 0.9738 - val_loss: 0.1196 - val_accuracy: 0.9661\n",
            "Epoch 24/25\n",
            "1500/1500 [==============================] - 6s 4ms/step - loss: 0.0955 - accuracy: 0.9745 - val_loss: 0.1173 - val_accuracy: 0.9671\n",
            "Epoch 25/25\n",
            "1500/1500 [==============================] - 4s 3ms/step - loss: 0.0924 - accuracy: 0.9755 - val_loss: 0.1151 - val_accuracy: 0.9673\n"
          ]
        }
      ],
      "source": [
        "history = model.fit(\n",
        "    X_train, y_train,\n",
        "    epochs=25,\n",
        "    validation_data=(X_valid, y_valid),\n",
        "    verbose=1,\n",
        "    batch_size=32)"
      ]
    },
    {
      "cell_type": "markdown",
      "metadata": {
        "id": "4BMYVNiO7pxC"
      },
      "source": [
        "<h1>Evaluación del modelo</h1>"
      ]
    },
    {
      "cell_type": "markdown",
      "metadata": {
        "id": "7B5-mum-7vC7"
      },
      "source": [
        "<b>model.evaluate</b><br>\n",
        "\n",
        "Retorna el valor de pérdida y los valores de las métricas del modelo. Sus argumentos de entrada son el dataset de prueba.\n"
      ]
    },
    {
      "cell_type": "code",
      "execution_count": null,
      "metadata": {
        "id": "5efCJ2SJ_Cvv",
        "tags": [],
        "colab": {
          "base_uri": "https://localhost:8080/"
        },
        "outputId": "0a54ea2a-414a-4561-cf37-35b13dda23a3"
      },
      "outputs": [
        {
          "output_type": "stream",
          "name": "stdout",
          "text": [
            "313/313 [==============================] - 1s 2ms/step - loss: 0.1068 - accuracy: 0.9687\n"
          ]
        },
        {
          "output_type": "execute_result",
          "data": {
            "text/plain": [
              "[0.10679110139608383, 0.9686999917030334]"
            ]
          },
          "metadata": {},
          "execution_count": 13
        }
      ],
      "source": [
        "model.evaluate(X_test, y_test)"
      ]
    },
    {
      "cell_type": "code",
      "execution_count": null,
      "metadata": {
        "id": "DRhle9_C9tCO",
        "tags": [],
        "colab": {
          "base_uri": "https://localhost:8080/",
          "height": 755
        },
        "outputId": "74dd08b7-ea9c-4fdf-98f0-0a687957b6a3"
      },
      "outputs": [
        {
          "output_type": "display_data",
          "data": {
            "text/plain": [
              "<Figure size 640x480 with 2 Axes>"
            ],
            "image/png": "[encoded data removed]"
          },
          "metadata": {}
        }
      ],
      "source": [
        "import pandas as pd\n",
        "import matplotlib.pyplot as plt\n",
        "\n",
        "plt.subplot(211)\n",
        "# plot loss\n",
        "plt.title('Loss')\n",
        "plt.plot(history.history['loss'], color='blue', label='train')\n",
        "plt.plot(history.history['val_loss'], color='orange', label='test')\n",
        "\n",
        "# plot accuracy\n",
        "plt.subplot(212)\n",
        "plt.title('Classification Accuracy')\n",
        "plt.plot(history.history['accuracy'], color='blue', label='train')\n",
        "plt.plot(history.history['val_accuracy'], color='orange', label='test')\n",
        "\n",
        "plt.subplots_adjust(bottom=0, top=1.4)"
      ]
    },
    {
      "cell_type": "markdown",
      "metadata": {
        "id": "FizOdBFE8xVz"
      },
      "source": [
        "<h1>Predicciones</h1>"
      ]
    },
    {
      "cell_type": "code",
      "execution_count": null,
      "metadata": {
        "id": "ZVjv0oXHALeZ",
        "tags": [],
        "colab": {
          "base_uri": "https://localhost:8080/"
        },
        "outputId": "832586e3-2136-4e61-ba03-620a1119bc4b"
      },
      "outputs": [
        {
          "output_type": "stream",
          "name": "stdout",
          "text": [
            "313/313 [==============================] - 1s 2ms/step\n"
          ]
        }
      ],
      "source": [
        "import numpy as np\n",
        "\n",
        "class_label = ['0', '1', '2', '3', '4', '5', '6', '7', '8', '9']\n",
        "\n",
        "#Ejercicio realizar las predicciones con X_test\n",
        "class_= model.predict(X_test)\n",
        "classes = np.argmax(class_, axis = 1)"
      ]
    },
    {
      "cell_type": "code",
      "execution_count": null,
      "metadata": {
        "id": "1o7TVQAfUyN1",
        "tags": [],
        "colab": {
          "base_uri": "https://localhost:8080/",
          "height": 728
        },
        "outputId": "5a13a6ee-2a3a-478f-e665-bef79cbad31a"
      },
      "outputs": [
        {
          "output_type": "display_data",
          "data": {
            "text/plain": [
              "<Figure size 700x700 with 16 Axes>"
            ],
            "image/png": "[encoded data removed]"
          },
          "metadata": {}
        }
      ],
      "source": [
        "# Tamaño de la figura\n",
        "w = 7\n",
        "h = 7\n",
        "\n",
        "# Número de columnas y filas del subplot\n",
        "cols = 4\n",
        "rows = 4\n",
        "\n",
        "# Creación de la figura\n",
        "fig = plt.figure(figsize=(w, h), constrained_layout=True)\n",
        "\n",
        "for i in range(1, cols*rows+1):\n",
        "  img = X_test[i]\n",
        "  ax = fig.add_subplot(rows, cols, i)\n",
        "  plt.imshow(img, cmap=\"gray\")\n",
        "  ax.title.set_text('True ' + str(y_test[i])+' - Pred '+str(class_label[classes[i]]))\n",
        "plt.show()"
      ]
    },
    {
      "cell_type": "markdown",
      "metadata": {
        "id": "ulb92v6-48dZ"
      },
      "source": [
        "<h1>Métricas para evaluar el desempeño de un modelo de clasificación</h1>\n",
        "\n",
        "Las métricas que se pueden utilizar son:\n",
        "*   *Precision*\n",
        "*   *Recall*\n",
        "*   *F1-score*\n",
        "*   *Confusion matrix*"
      ]
    },
    {
      "cell_type": "markdown",
      "metadata": {
        "id": "ByYdMDT-ATs5"
      },
      "source": [
        "<h2>Matriz de confusión</h2>\n",
        "\n",
        "Presenta de manera visual el desempeño de un modelo sobre un conjunto de datos (**test_set**). Los valores que se muestran representan el número de inferencias correctas e incorrectas de cada clase."
      ]
    },
    {
      "cell_type": "code",
      "execution_count": null,
      "metadata": {
        "id": "Jmz6IqcMpXG5",
        "tags": []
      },
      "outputs": [],
      "source": [
        "# Calculo de la matriz de confusión con sklearn\n",
        "#from sklearn.metrics import confusion_matrix\n",
        "#confusion_mat = confusion_matrix(y_test, classes)\n",
        "\n",
        "\n",
        "# Calculo de la matriz de confusion con tensorflow\n",
        "confusion_mtx = tf.math.confusion_matrix(y_test, classes)"
      ]
    },
    {
      "cell_type": "code",
      "execution_count": null,
      "metadata": {
        "id": "66XOuC3RALzD",
        "tags": [],
        "colab": {
          "base_uri": "https://localhost:8080/",
          "height": 1000
        },
        "outputId": "14ef41c1-a008-4106-9c21-dbc6964d7607"
      },
      "outputs": [
        {
          "output_type": "execute_result",
          "data": {
            "text/plain": [
              "[[Text(0.5, 0, '0'),\n",
              "  Text(1.5, 0, '1'),\n",
              "  Text(2.5, 0, '2'),\n",
              "  Text(3.5, 0, '3'),\n",
              "  Text(4.5, 0, '4'),\n",
              "  Text(5.5, 0, '5'),\n",
              "  Text(6.5, 0, '6'),\n",
              "  Text(7.5, 0, '7'),\n",
              "  Text(8.5, 0, '8'),\n",
              "  Text(9.5, 0, '9')],\n",
              " [Text(0, 0.5, '0'),\n",
              "  Text(0, 1.5, '1'),\n",
              "  Text(0, 2.5, '2'),\n",
              "  Text(0, 3.5, '3'),\n",
              "  Text(0, 4.5, '4'),\n",
              "  Text(0, 5.5, '5'),\n",
              "  Text(0, 6.5, '6'),\n",
              "  Text(0, 7.5, '7'),\n",
              "  Text(0, 8.5, '8'),\n",
              "  Text(0, 9.5, '9')]]"
            ]
          },
          "metadata": {},
          "execution_count": 18
        },
        {
          "output_type": "display_data",
          "data": {
            "text/plain": [
              "<Figure size 1200x900 with 2 Axes>"
            ],
            "image/png": "[encoded data removed]"
          },
          "metadata": {}
        }
      ],
      "source": [
        "import seaborn as sns\n",
        "\n",
        "plt.figure(figsize=(12, 9))\n",
        "c = sns.heatmap(confusion_mtx, annot=True, fmt='g', cmap=plt.cm.Blues)\n",
        "c.set(xticklabels=class_label, yticklabels=class_label)"
      ]
    },
    {
      "cell_type": "markdown",
      "metadata": {
        "id": "dM7KvophhJPz"
      },
      "source": [
        "<font color=\"red\">\n",
        "En la matriz de confusión se puede apreciar que la clase <i>9</i> y la clase <i>4</i> se confunden.\n",
        "</br>\n",
        "</font>"
      ]
    },
    {
      "cell_type": "markdown",
      "metadata": {
        "id": "AXV0fizZEHEc"
      },
      "source": [
        "Considerar la clase **5** para calcular sus valores *True Positive*, *True negative*, *False Positive* y *False Negative*.\n",
        "\n",
        "</br>\n",
        "<h4> True Positive (TP) </h4>\n",
        "El valor de verdaderos positivos para cada clase se encuentran en la diagonal de la matriz. Para la clase 5, el número de imágenes correctamente predichas es:\n",
        "\n",
        "$TP = ?$\n",
        "\n",
        "</br>\n",
        "<h4> False Negative (FN)</h4>\n",
        "El valor de los falsos negativos para cada clase se calcula sumando las celdas de la fila, excepto el valor de la diagonal, esto es el valor de los verdaderos positivos. Para la clase 5, la suma queda de la siguiente manera:\n",
        "\n",
        "$FN = ?$\n",
        "\n",
        "</br>\n",
        "<h4> False Positive (FP)</h4>\n",
        "El valor de falsos positivos para cada clase se calcula sumando las celdas de la columna, excepto el valor de la diagonal, esto es el valor de los verdaderos positivos. Para la clase 5, la suma queda de la siguiente manera:\n",
        "\n",
        "$FP = ?$\n",
        "\n",
        "</br>\n",
        "<h4> True Negative (TN)</h4>\n",
        "El valor de verdaderos negativos para cada clase se calcula sumando las celdas de las columnas y filas, excepto los valores de la columna y fila de la clase.\n",
        "\n",
        "$TN = ?$\n"
      ]
    },
    {
      "cell_type": "markdown",
      "metadata": {
        "tags": [],
        "id": "ukEMJ5j-M4H2"
      },
      "source": [
        "<h2>Accuracy</h2>\n",
        "\n",
        "Reporta el desempeño general del modelo\n",
        "\n",
        "$$\n",
        "      Accuracy = \\frac{\\mbox{Inferencias correctas}}{\\mbox{Total de inferencias}} = \\frac{TP+TN}{TP+FP+FN+TN}\n",
        "$$\n",
        "\n",
        "</br>\n",
        "<b>NOTA</b>: Es una métrica adecuada para datasets balanceados."
      ]
    },
    {
      "cell_type": "markdown",
      "metadata": {
        "id": "C_GzFtOAM4H2"
      },
      "source": [
        "<h2> Classification Error Rate </h2>\n",
        "\n",
        "Es una métrica que reporta la clasificación errónea del modelo, es decir, es una métrica opuesta al <i>accuracy</i>.\n",
        "\n",
        "$$\n",
        "  \\it{\\mbox{Classification Error Rate}} = \\frac{FP+FN}{TP+FP+TN+FN}\n",
        "$$"
      ]
    },
    {
      "cell_type": "markdown",
      "metadata": {
        "id": "r-NmZ7IApxca"
      },
      "source": [
        "<h1> Reporte </h1>"
      ]
    },
    {
      "cell_type": "markdown",
      "metadata": {
        "id": "RCx41x2WS42w"
      },
      "source": [
        "<h2>Precision</h2>"
      ]
    },
    {
      "cell_type": "markdown",
      "metadata": {
        "id": "MuUtzZ9HTBOJ"
      },
      "source": [
        "Mide la *calidad* del modelo, es decir, cuántas de las predicciones positivas realizadas son correctas (verdaderos positivos). Su fórmula es:\n",
        "\n",
        "<center>\n",
        "$Precision = \\frac{TP}{TP + FP}$\n",
        "</center>\n",
        "\n",
        "<b>NOTA</b> Usar esta métrica cuando el costo de tener falsos positivos es muy alto. Por ejemplo: identificar correos *spam*"
      ]
    },
    {
      "cell_type": "markdown",
      "metadata": {
        "id": "5afU0Y3sTDN4"
      },
      "source": [
        "<h2>Recall</h2>"
      ]
    },
    {
      "cell_type": "markdown",
      "metadata": {
        "id": "7PZKj0G4TJoc"
      },
      "source": [
        "Indica la cantidad de casos positivos que son correctos, en otras palabras lo que el modelo es capaz de identificar. Se calcula con la siguiente fórmula:\n",
        "\n",
        "<center>\n",
        "$Recall = \\frac{TP}{TP+FN}$\n",
        "</center>\n",
        "\n",
        "Recall también se conoce como **sensitivity** (sensibilidad) o  **taza de verdaderos positivos**.\n",
        "</br>\n",
        "NOTA: En caso de que se deseen evitar falsos negativos, considerar valores altos para esta métrica. Por ejemplo: diagnósticos médicos: cáncer, diabetes, etc .\n"
      ]
    },
    {
      "cell_type": "markdown",
      "metadata": {
        "id": "V6X51tYmTKww"
      },
      "source": [
        "<h2>F1-score</h2>"
      ]
    },
    {
      "cell_type": "markdown",
      "metadata": {
        "id": "zDOGtdJgTSoK"
      },
      "source": [
        "**F1-score** combina los valores de *precision* y *recall* y es una \"media\" de valores. Su fórmula es:\n",
        "\n",
        "<center>\n",
        "$F1\\mbox{-}score = 2 \\frac{precision \\cdot recall}{precision + recall}$\n",
        "</center>\n",
        "\n",
        "</br>\n",
        "En algunos casos no puede representar el comportamiento general del modelo, debido a los valores variados de *recall* y *precision*"
      ]
    },
    {
      "cell_type": "code",
      "execution_count": null,
      "metadata": {
        "id": "-5kCd8iC33Ti",
        "colab": {
          "base_uri": "https://localhost:8080/"
        },
        "outputId": "50183f75-2dfa-493a-a664-c58cb9e2666d"
      },
      "outputs": [
        {
          "output_type": "stream",
          "name": "stdout",
          "text": [
            "              precision    recall  f1-score   support\n",
            "\n",
            "           0       0.98      0.99      0.98       980\n",
            "           1       0.98      0.99      0.98      1135\n",
            "           2       0.96      0.97      0.97      1032\n",
            "           3       0.96      0.98      0.97      1010\n",
            "           4       0.97      0.97      0.97       982\n",
            "           5       0.97      0.96      0.97       892\n",
            "           6       0.97      0.97      0.97       958\n",
            "           7       0.96      0.96      0.96      1028\n",
            "           8       0.96      0.96      0.96       974\n",
            "           9       0.97      0.94      0.96      1009\n",
            "\n",
            "    accuracy                           0.97     10000\n",
            "   macro avg       0.97      0.97      0.97     10000\n",
            "weighted avg       0.97      0.97      0.97     10000\n",
            "\n"
          ]
        }
      ],
      "source": [
        "from sklearn.metrics import classification_report\n",
        "print(classification_report(y_test, classes, target_names=class_label))"
      ]
    },
    {
      "cell_type": "markdown",
      "metadata": {
        "tags": [],
        "id": "ApNG80fVM4H3"
      },
      "source": [
        "<h2>Specificity</h2>\n",
        "\n",
        "La especificidad mide la proporción de verdaderos negativos y los negativos que son identificados por el modelo.\n",
        "\n",
        "<center>\n",
        "    $Specificity = \\frac{TN}{FP+TN}$\n",
        "</center>\n",
        "\n",
        "Specificity también se conoce como la **taza de falsos negativos**.\n",
        "</br>\n",
        "<b>NOTA</b>: Es una métrica adecuada para problemas donde la identificación de datos negativos es de alta prioridad, y el costo por dar un dato positivo puede generar un alto costo. Por ejemplo: detección de fraudes o de drogas."
      ]
    },
    {
      "cell_type": "code",
      "execution_count": null,
      "metadata": {
        "id": "KuGtPeUyM4H3"
      },
      "outputs": [],
      "source": [
        "np_mat = confusion_mtx.numpy()\n",
        "\n",
        "df = pd.DataFrame(np_mat)"
      ]
    },
    {
      "cell_type": "code",
      "execution_count": null,
      "metadata": {
        "tags": [],
        "id": "iUw6uJspM4H3"
      },
      "outputs": [],
      "source": [
        "number = 3\n",
        "\n",
        "# Verdaderos negativos (TN)\n",
        "mat_TN = df.drop(number, axis=1).drop(number, axis=0)\n",
        "_TN = mat_TN.sum().sum()\n",
        "\n",
        "# Falsos positivos (FP)\n",
        "_FP = df[number].sum()-df.iloc[number][number]"
      ]
    },
    {
      "cell_type": "code",
      "execution_count": null,
      "metadata": {
        "tags": [],
        "id": "SCON0QPWM4H4"
      },
      "outputs": [],
      "source": [
        "Specificity = _TN / (_TN + _FP)"
      ]
    },
    {
      "cell_type": "code",
      "execution_count": null,
      "metadata": {
        "tags": [],
        "colab": {
          "base_uri": "https://localhost:8080/"
        },
        "id": "YvlIgRWtM4H4",
        "outputId": "ea23c89d-053e-4739-cb4b-721555ec11bb"
      },
      "outputs": [
        {
          "output_type": "stream",
          "name": "stdout",
          "text": [
            "0.9956618464961068\n"
          ]
        }
      ],
      "source": [
        "print(Specificity)"
      ]
    },
    {
      "cell_type": "markdown",
      "metadata": {
        "id": "hOPNsnz-M4H4"
      },
      "source": [
        "Referencias:\n",
        "1. https://towardsdatascience.com/understanding-common-classification-metrics-titanic-style-8b8a562d3e32\n",
        "2. https://medium.com/analytics-vidhya/how-to-select-performance-metrics-for-classification-models-c847fe6b1ea3"
      ]
    }
  ],
  "metadata": {
    "accelerator": "GPU",
    "colab": {
      "provenance": []
    },
    "gpuClass": "standard",
    "kernelspec": {
      "display_name": "Python 3 (ipykernel)",
      "language": "python",
      "name": "python3"
    },
    "language_info": {
      "codemirror_mode": {
        "name": "ipython",
        "version": 3
      },
      "file_extension": ".py",
      "mimetype": "text/x-python",
      "name": "python",
      "nbconvert_exporter": "python",
      "pygments_lexer": "ipython3",
      "version": "3.7.16"
    }
  },
  "nbformat": 4,
  "nbformat_minor": 0
}